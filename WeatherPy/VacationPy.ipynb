{
 "cells": [
  {
   "cell_type": "markdown",
   "metadata": {},
   "source": [
    "# VacationPy\n",
    "----\n",
    "\n",
    "#### Note\n",
    "* Keep an eye on your API usage. Use https://developers.google.com/maps/reporting/gmp-reporting as reference for how to monitor your usage and billing.\n",
    "\n",
    "* Instructions have been included for each segment. You do not have to follow them exactly, but they are included to help you think through the steps."
   ]
  },
  {
   "cell_type": "code",
   "execution_count": 1,
   "metadata": {},
   "outputs": [],
   "source": [
    "# Dependencies and Setup\n",
    "import matplotlib.pyplot as plt\n",
    "import pandas as pd\n",
    "import numpy as np\n",
    "import requests\n",
    "import gmaps\n",
    "import os\n",
    "\n",
    "# Import API key\n",
    "from api_keys import g_key"
   ]
  },
  {
   "cell_type": "markdown",
   "metadata": {},
   "source": [
    "### Store Part I results into DataFrame\n",
    "* Load the csv exported in Part I to a DataFrame"
   ]
  },
  {
   "cell_type": "code",
   "execution_count": 2,
   "metadata": {},
   "outputs": [
    {
     "output_type": "execute_result",
     "data": {
      "text/plain": [
       "     Number                  City Country  Latitude  Longitude   Temp  \\\n",
       "0         1          kruisfontein      ZA  -34.0033    24.7314  89.01   \n",
       "1         2  vila franca do campo      PT   37.7167   -25.4333  55.53   \n",
       "2         3           port alfred      ZA  -33.5906    26.8910  75.99   \n",
       "3         4            bredasdorp      ZA  -34.5322    20.0403  82.40   \n",
       "4         5                albany      US   42.6001   -73.9662  25.74   \n",
       "..      ...                   ...     ...       ...        ...    ...   \n",
       "516     517                mehran      IR   33.1222    46.1646  62.60   \n",
       "517     518               gamboma      CG   -1.8764    15.8644  96.69   \n",
       "518     519                 aneho      TG    6.2333     1.6000  91.40   \n",
       "519     520                   eyl      SO    7.9803    49.8164  80.29   \n",
       "520     521           farafangana      MG  -22.8167    47.8333  85.59   \n",
       "\n",
       "     Humidity  Cloudiness  Windspeed  \n",
       "0          40          51       8.01  \n",
       "1          67          40      25.32  \n",
       "2          71           7      11.99  \n",
       "3          36           0      11.50  \n",
       "4          86         100       1.01  \n",
       "..        ...         ...        ...  \n",
       "516        27           0       4.61  \n",
       "517        41          55       1.92  \n",
       "518        58          20      10.36  \n",
       "519        51          62      23.35  \n",
       "520        67          40      10.89  \n",
       "\n",
       "[521 rows x 9 columns]"
      ],
      "text/html": "<div>\n<style scoped>\n    .dataframe tbody tr th:only-of-type {\n        vertical-align: middle;\n    }\n\n    .dataframe tbody tr th {\n        vertical-align: top;\n    }\n\n    .dataframe thead th {\n        text-align: right;\n    }\n</style>\n<table border=\"1\" class=\"dataframe\">\n  <thead>\n    <tr style=\"text-align: right;\">\n      <th></th>\n      <th>Number</th>\n      <th>City</th>\n      <th>Country</th>\n      <th>Latitude</th>\n      <th>Longitude</th>\n      <th>Temp</th>\n      <th>Humidity</th>\n      <th>Cloudiness</th>\n      <th>Windspeed</th>\n    </tr>\n  </thead>\n  <tbody>\n    <tr>\n      <th>0</th>\n      <td>1</td>\n      <td>kruisfontein</td>\n      <td>ZA</td>\n      <td>-34.0033</td>\n      <td>24.7314</td>\n      <td>89.01</td>\n      <td>40</td>\n      <td>51</td>\n      <td>8.01</td>\n    </tr>\n    <tr>\n      <th>1</th>\n      <td>2</td>\n      <td>vila franca do campo</td>\n      <td>PT</td>\n      <td>37.7167</td>\n      <td>-25.4333</td>\n      <td>55.53</td>\n      <td>67</td>\n      <td>40</td>\n      <td>25.32</td>\n    </tr>\n    <tr>\n      <th>2</th>\n      <td>3</td>\n      <td>port alfred</td>\n      <td>ZA</td>\n      <td>-33.5906</td>\n      <td>26.8910</td>\n      <td>75.99</td>\n      <td>71</td>\n      <td>7</td>\n      <td>11.99</td>\n    </tr>\n    <tr>\n      <th>3</th>\n      <td>4</td>\n      <td>bredasdorp</td>\n      <td>ZA</td>\n      <td>-34.5322</td>\n      <td>20.0403</td>\n      <td>82.40</td>\n      <td>36</td>\n      <td>0</td>\n      <td>11.50</td>\n    </tr>\n    <tr>\n      <th>4</th>\n      <td>5</td>\n      <td>albany</td>\n      <td>US</td>\n      <td>42.6001</td>\n      <td>-73.9662</td>\n      <td>25.74</td>\n      <td>86</td>\n      <td>100</td>\n      <td>1.01</td>\n    </tr>\n    <tr>\n      <th>...</th>\n      <td>...</td>\n      <td>...</td>\n      <td>...</td>\n      <td>...</td>\n      <td>...</td>\n      <td>...</td>\n      <td>...</td>\n      <td>...</td>\n      <td>...</td>\n    </tr>\n    <tr>\n      <th>516</th>\n      <td>517</td>\n      <td>mehran</td>\n      <td>IR</td>\n      <td>33.1222</td>\n      <td>46.1646</td>\n      <td>62.60</td>\n      <td>27</td>\n      <td>0</td>\n      <td>4.61</td>\n    </tr>\n    <tr>\n      <th>517</th>\n      <td>518</td>\n      <td>gamboma</td>\n      <td>CG</td>\n      <td>-1.8764</td>\n      <td>15.8644</td>\n      <td>96.69</td>\n      <td>41</td>\n      <td>55</td>\n      <td>1.92</td>\n    </tr>\n    <tr>\n      <th>518</th>\n      <td>519</td>\n      <td>aneho</td>\n      <td>TG</td>\n      <td>6.2333</td>\n      <td>1.6000</td>\n      <td>91.40</td>\n      <td>58</td>\n      <td>20</td>\n      <td>10.36</td>\n    </tr>\n    <tr>\n      <th>519</th>\n      <td>520</td>\n      <td>eyl</td>\n      <td>SO</td>\n      <td>7.9803</td>\n      <td>49.8164</td>\n      <td>80.29</td>\n      <td>51</td>\n      <td>62</td>\n      <td>23.35</td>\n    </tr>\n    <tr>\n      <th>520</th>\n      <td>521</td>\n      <td>farafangana</td>\n      <td>MG</td>\n      <td>-22.8167</td>\n      <td>47.8333</td>\n      <td>85.59</td>\n      <td>67</td>\n      <td>40</td>\n      <td>10.89</td>\n    </tr>\n  </tbody>\n</table>\n<p>521 rows × 9 columns</p>\n</div>"
     },
     "metadata": {},
     "execution_count": 2
    }
   ],
   "source": [
    "weather_data = pd.read_csv(\"output_data\\weather_data.csv\")\n",
    "weather_data\n"
   ]
  },
  {
   "cell_type": "markdown",
   "metadata": {},
   "source": [
    "### Humidity Heatmap\n",
    "* Configure gmaps.\n",
    "* Use the Lat and Lng as locations and Humidity as the weight.\n",
    "* Add Heatmap layer to map."
   ]
  },
  {
   "cell_type": "code",
   "execution_count": 3,
   "metadata": {},
   "outputs": [],
   "source": [
    "gmaps.configure(api_key=g_key)"
   ]
  },
  {
   "cell_type": "code",
   "execution_count": 4,
   "metadata": {},
   "outputs": [
    {
     "output_type": "display_data",
     "data": {
      "text/plain": "Figure(layout=FigureLayout(height='420px'))",
      "application/vnd.jupyter.widget-view+json": {
       "version_major": 2,
       "version_minor": 0,
       "model_id": "a2f5ee3811914b4db6fd073713a73da7"
      }
     },
     "metadata": {}
    }
   ],
   "source": [
    "# Create a humidity Heatmap layer\n",
    "locations = weather_data[[\"Latitude\", \"Longitude\"]]\n",
    "humidity = weather_data[\"Humidity\"]\n",
    "\n",
    "fig = gmaps.figure()\n",
    "\n",
    "heat_layer = gmaps.heatmap_layer(locations, weights=humidity, \n",
    "                                 dissipating=False, max_intensity=300,\n",
    "                                 point_radius = 5)\n",
    "\n",
    "fig.add_layer(heat_layer)\n",
    "\n",
    "fig"
   ]
  },
  {
   "cell_type": "markdown",
   "metadata": {},
   "source": [
    "### Create new DataFrame fitting weather criteria\n",
    "* Narrow down the cities to fit weather conditions.\n",
    "* Drop any rows will null values."
   ]
  },
  {
   "cell_type": "code",
   "execution_count": 5,
   "metadata": {},
   "outputs": [
    {
     "output_type": "execute_result",
     "data": {
      "text/plain": [
       "18"
      ]
     },
     "metadata": {},
     "execution_count": 5
    }
   ],
   "source": [
    "filter_weather_data = weather_data.loc[(weather_data.Temp < 80) & (weather_data.Temp > 70) & (weather_data.Windspeed < 10) & (weather_data.Cloudiness < 10)]\n",
    "\n",
    "len(filter_weather_data)\n"
   ]
  },
  {
   "cell_type": "markdown",
   "metadata": {},
   "source": [
    "### Hotel Map\n",
    "* Store into variable named `hotel_df`.\n",
    "* Add a \"Hotel Name\" column to the DataFrame.\n",
    "* Set parameters to search for hotels with 5000 meters.\n",
    "* Hit the Google Places API for each city's coordinates.\n",
    "* Store the first Hotel result into the DataFrame.\n",
    "* Plot markers on top of the heatmap."
   ]
  },
  {
   "cell_type": "code",
   "execution_count": 6,
   "metadata": {},
   "outputs": [
    {
     "output_type": "execute_result",
     "data": {
      "text/plain": [
       "           City Country  Latitude  Longitude Hotel Name\n",
       "9    sao filipe      CV   14.8961   -24.4956           \n",
       "39    busselton      AU  -33.6500   115.3333           \n",
       "56         chuy      UY  -33.6971   -53.4616           \n",
       "67   harindanga      IN   22.0383    88.3214           \n",
       "87       riyadh      SA   24.6877    46.7219           \n",
       "99     khanewal      PK   30.3000    71.9333           \n",
       "153   susangerd      IR   31.5608    48.1831           \n",
       "176     bankura      IN   23.2500    87.0667           \n",
       "205     salalah      OM   17.0151    54.0924           \n",
       "211  nouadhibou      MR   20.9310   -17.0347           \n",
       "251  pedernales      DO   18.0384   -71.7440           \n",
       "257         sur      OM   22.5667    59.5289           \n",
       "261      knysna      ZA  -34.0363    23.0471           \n",
       "275      ashdod      IL   31.8167    34.6500           \n",
       "320       rocha      UY  -34.4833   -54.3333           \n",
       "327       kotra      IN   25.8167    79.3167           \n",
       "492        suez      EG   29.9737    32.5263           \n",
       "495     qandala      SO   11.4720    49.8728           "
      ],
      "text/html": "<div>\n<style scoped>\n    .dataframe tbody tr th:only-of-type {\n        vertical-align: middle;\n    }\n\n    .dataframe tbody tr th {\n        vertical-align: top;\n    }\n\n    .dataframe thead th {\n        text-align: right;\n    }\n</style>\n<table border=\"1\" class=\"dataframe\">\n  <thead>\n    <tr style=\"text-align: right;\">\n      <th></th>\n      <th>City</th>\n      <th>Country</th>\n      <th>Latitude</th>\n      <th>Longitude</th>\n      <th>Hotel Name</th>\n    </tr>\n  </thead>\n  <tbody>\n    <tr>\n      <th>9</th>\n      <td>sao filipe</td>\n      <td>CV</td>\n      <td>14.8961</td>\n      <td>-24.4956</td>\n      <td></td>\n    </tr>\n    <tr>\n      <th>39</th>\n      <td>busselton</td>\n      <td>AU</td>\n      <td>-33.6500</td>\n      <td>115.3333</td>\n      <td></td>\n    </tr>\n    <tr>\n      <th>56</th>\n      <td>chuy</td>\n      <td>UY</td>\n      <td>-33.6971</td>\n      <td>-53.4616</td>\n      <td></td>\n    </tr>\n    <tr>\n      <th>67</th>\n      <td>harindanga</td>\n      <td>IN</td>\n      <td>22.0383</td>\n      <td>88.3214</td>\n      <td></td>\n    </tr>\n    <tr>\n      <th>87</th>\n      <td>riyadh</td>\n      <td>SA</td>\n      <td>24.6877</td>\n      <td>46.7219</td>\n      <td></td>\n    </tr>\n    <tr>\n      <th>99</th>\n      <td>khanewal</td>\n      <td>PK</td>\n      <td>30.3000</td>\n      <td>71.9333</td>\n      <td></td>\n    </tr>\n    <tr>\n      <th>153</th>\n      <td>susangerd</td>\n      <td>IR</td>\n      <td>31.5608</td>\n      <td>48.1831</td>\n      <td></td>\n    </tr>\n    <tr>\n      <th>176</th>\n      <td>bankura</td>\n      <td>IN</td>\n      <td>23.2500</td>\n      <td>87.0667</td>\n      <td></td>\n    </tr>\n    <tr>\n      <th>205</th>\n      <td>salalah</td>\n      <td>OM</td>\n      <td>17.0151</td>\n      <td>54.0924</td>\n      <td></td>\n    </tr>\n    <tr>\n      <th>211</th>\n      <td>nouadhibou</td>\n      <td>MR</td>\n      <td>20.9310</td>\n      <td>-17.0347</td>\n      <td></td>\n    </tr>\n    <tr>\n      <th>251</th>\n      <td>pedernales</td>\n      <td>DO</td>\n      <td>18.0384</td>\n      <td>-71.7440</td>\n      <td></td>\n    </tr>\n    <tr>\n      <th>257</th>\n      <td>sur</td>\n      <td>OM</td>\n      <td>22.5667</td>\n      <td>59.5289</td>\n      <td></td>\n    </tr>\n    <tr>\n      <th>261</th>\n      <td>knysna</td>\n      <td>ZA</td>\n      <td>-34.0363</td>\n      <td>23.0471</td>\n      <td></td>\n    </tr>\n    <tr>\n      <th>275</th>\n      <td>ashdod</td>\n      <td>IL</td>\n      <td>31.8167</td>\n      <td>34.6500</td>\n      <td></td>\n    </tr>\n    <tr>\n      <th>320</th>\n      <td>rocha</td>\n      <td>UY</td>\n      <td>-34.4833</td>\n      <td>-54.3333</td>\n      <td></td>\n    </tr>\n    <tr>\n      <th>327</th>\n      <td>kotra</td>\n      <td>IN</td>\n      <td>25.8167</td>\n      <td>79.3167</td>\n      <td></td>\n    </tr>\n    <tr>\n      <th>492</th>\n      <td>suez</td>\n      <td>EG</td>\n      <td>29.9737</td>\n      <td>32.5263</td>\n      <td></td>\n    </tr>\n    <tr>\n      <th>495</th>\n      <td>qandala</td>\n      <td>SO</td>\n      <td>11.4720</td>\n      <td>49.8728</td>\n      <td></td>\n    </tr>\n  </tbody>\n</table>\n</div>"
     },
     "metadata": {},
     "execution_count": 6
    }
   ],
   "source": [
    "hotel_df = filter_weather_data[[\"City\", \"Country\", \"Latitude\", \"Longitude\"]]\n",
    "hotel_df.insert(4, \"Hotel Name\", \"\") \n",
    "hotel_df"
   ]
  },
  {
   "cell_type": "code",
   "execution_count": 7,
   "metadata": {},
   "outputs": [
    {
     "output_type": "execute_result",
     "data": {
      "text/plain": [
       "           City Country  Latitude  Longitude  \\\n",
       "9    sao filipe      CV   14.8961   -24.4956   \n",
       "39    busselton      AU  -33.6500   115.3333   \n",
       "56         chuy      UY  -33.6971   -53.4616   \n",
       "67   harindanga      IN   22.0383    88.3214   \n",
       "87       riyadh      SA   24.6877    46.7219   \n",
       "99     khanewal      PK   30.3000    71.9333   \n",
       "153   susangerd      IR   31.5608    48.1831   \n",
       "176     bankura      IN   23.2500    87.0667   \n",
       "205     salalah      OM   17.0151    54.0924   \n",
       "211  nouadhibou      MR   20.9310   -17.0347   \n",
       "251  pedernales      DO   18.0384   -71.7440   \n",
       "257         sur      OM   22.5667    59.5289   \n",
       "261      knysna      ZA  -34.0363    23.0471   \n",
       "275      ashdod      IL   31.8167    34.6500   \n",
       "320       rocha      UY  -34.4833   -54.3333   \n",
       "327       kotra      IN   25.8167    79.3167   \n",
       "492        suez      EG   29.9737    32.5263   \n",
       "495     qandala      SO   11.4720    49.8728   \n",
       "\n",
       "                                        Hotel Name  \n",
       "9                                 La Fora Ecolodge  \n",
       "39                             The Sebel Busselton  \n",
       "56                             Bertelli Chuí Hotel  \n",
       "67                                 Hotel not found  \n",
       "87     Four Seasons Hotel Riyadh At Kingdom Center  \n",
       "99                              Tariq Kamboh Hotel  \n",
       "153               Hall, Hotel And Restaurant Ghasr  \n",
       "176                      OYO 47055 Mayaban Village  \n",
       "205                            HYATT SALALAH HOTEL  \n",
       "211                     Free Zone Hotel Nouadhibou  \n",
       "251                               Hotel Alba Coral  \n",
       "257                                Sur Plaza Hotel  \n",
       "261                      Pezula Resort Hotel & Spa  \n",
       "275  West All Suite Hotel Ashdod - מלון ווסט אשדוד  \n",
       "320                                   Casa Rodo 53  \n",
       "327                                Hotel not found  \n",
       "492                                  Red Sea Hotel  \n",
       "495                                Hotel not found  "
      ],
      "text/html": "<div>\n<style scoped>\n    .dataframe tbody tr th:only-of-type {\n        vertical-align: middle;\n    }\n\n    .dataframe tbody tr th {\n        vertical-align: top;\n    }\n\n    .dataframe thead th {\n        text-align: right;\n    }\n</style>\n<table border=\"1\" class=\"dataframe\">\n  <thead>\n    <tr style=\"text-align: right;\">\n      <th></th>\n      <th>City</th>\n      <th>Country</th>\n      <th>Latitude</th>\n      <th>Longitude</th>\n      <th>Hotel Name</th>\n    </tr>\n  </thead>\n  <tbody>\n    <tr>\n      <th>9</th>\n      <td>sao filipe</td>\n      <td>CV</td>\n      <td>14.8961</td>\n      <td>-24.4956</td>\n      <td>La Fora Ecolodge</td>\n    </tr>\n    <tr>\n      <th>39</th>\n      <td>busselton</td>\n      <td>AU</td>\n      <td>-33.6500</td>\n      <td>115.3333</td>\n      <td>The Sebel Busselton</td>\n    </tr>\n    <tr>\n      <th>56</th>\n      <td>chuy</td>\n      <td>UY</td>\n      <td>-33.6971</td>\n      <td>-53.4616</td>\n      <td>Bertelli Chuí Hotel</td>\n    </tr>\n    <tr>\n      <th>67</th>\n      <td>harindanga</td>\n      <td>IN</td>\n      <td>22.0383</td>\n      <td>88.3214</td>\n      <td>Hotel not found</td>\n    </tr>\n    <tr>\n      <th>87</th>\n      <td>riyadh</td>\n      <td>SA</td>\n      <td>24.6877</td>\n      <td>46.7219</td>\n      <td>Four Seasons Hotel Riyadh At Kingdom Center</td>\n    </tr>\n    <tr>\n      <th>99</th>\n      <td>khanewal</td>\n      <td>PK</td>\n      <td>30.3000</td>\n      <td>71.9333</td>\n      <td>Tariq Kamboh Hotel</td>\n    </tr>\n    <tr>\n      <th>153</th>\n      <td>susangerd</td>\n      <td>IR</td>\n      <td>31.5608</td>\n      <td>48.1831</td>\n      <td>Hall, Hotel And Restaurant Ghasr</td>\n    </tr>\n    <tr>\n      <th>176</th>\n      <td>bankura</td>\n      <td>IN</td>\n      <td>23.2500</td>\n      <td>87.0667</td>\n      <td>OYO 47055 Mayaban Village</td>\n    </tr>\n    <tr>\n      <th>205</th>\n      <td>salalah</td>\n      <td>OM</td>\n      <td>17.0151</td>\n      <td>54.0924</td>\n      <td>HYATT SALALAH HOTEL</td>\n    </tr>\n    <tr>\n      <th>211</th>\n      <td>nouadhibou</td>\n      <td>MR</td>\n      <td>20.9310</td>\n      <td>-17.0347</td>\n      <td>Free Zone Hotel Nouadhibou</td>\n    </tr>\n    <tr>\n      <th>251</th>\n      <td>pedernales</td>\n      <td>DO</td>\n      <td>18.0384</td>\n      <td>-71.7440</td>\n      <td>Hotel Alba Coral</td>\n    </tr>\n    <tr>\n      <th>257</th>\n      <td>sur</td>\n      <td>OM</td>\n      <td>22.5667</td>\n      <td>59.5289</td>\n      <td>Sur Plaza Hotel</td>\n    </tr>\n    <tr>\n      <th>261</th>\n      <td>knysna</td>\n      <td>ZA</td>\n      <td>-34.0363</td>\n      <td>23.0471</td>\n      <td>Pezula Resort Hotel &amp; Spa</td>\n    </tr>\n    <tr>\n      <th>275</th>\n      <td>ashdod</td>\n      <td>IL</td>\n      <td>31.8167</td>\n      <td>34.6500</td>\n      <td>West All Suite Hotel Ashdod - מלון ווסט אשדוד</td>\n    </tr>\n    <tr>\n      <th>320</th>\n      <td>rocha</td>\n      <td>UY</td>\n      <td>-34.4833</td>\n      <td>-54.3333</td>\n      <td>Casa Rodo 53</td>\n    </tr>\n    <tr>\n      <th>327</th>\n      <td>kotra</td>\n      <td>IN</td>\n      <td>25.8167</td>\n      <td>79.3167</td>\n      <td>Hotel not found</td>\n    </tr>\n    <tr>\n      <th>492</th>\n      <td>suez</td>\n      <td>EG</td>\n      <td>29.9737</td>\n      <td>32.5263</td>\n      <td>Red Sea Hotel</td>\n    </tr>\n    <tr>\n      <th>495</th>\n      <td>qandala</td>\n      <td>SO</td>\n      <td>11.4720</td>\n      <td>49.8728</td>\n      <td>Hotel not found</td>\n    </tr>\n  </tbody>\n</table>\n</div>"
     },
     "metadata": {},
     "execution_count": 7
    }
   ],
   "source": [
    "# Store parameters for url query\n",
    "params = {\n",
    "    \"radius\": 5000,\n",
    "    \"keyword\": \"hotel\",\n",
    "    \"types\": \"lodging\",\n",
    "    \"key\": g_key\n",
    "}\n",
    "\n",
    "# Obtained from https://developers.google.com/places/web-service/search\n",
    "url = \"https://maps.googleapis.com/maps/api/place/nearbysearch/json\"\n",
    "\n",
    "for index, row in hotel_df.iterrows():\n",
    "\n",
    "    latitude = row[\"Latitude\"]\n",
    "    longitude = row[\"Longitude\"]\n",
    "\n",
    "    params[\"location\"] = f\"{latitude},{longitude}\"\n",
    "\n",
    "    response = requests.get(url, params=params).json()\n",
    "    \n",
    "    try:\n",
    "        hotel_df.loc[index, \"Hotel Name\"] = response[\"results\"][0][\"name\"]\n",
    "    except (KeyError, IndexError):\n",
    "        hotel_df.loc[index, \"Hotel Name\"] = \"Hotel not found\"\n",
    "        \n",
    "\n",
    "hotel_df"
   ]
  },
  {
   "cell_type": "code",
   "execution_count": 9,
   "metadata": {},
   "outputs": [],
   "source": [
    "# NOTE: Do not change any of the code in this cell\n",
    "\n",
    "# Using the template add the hotel marks to the heatmap\n",
    "info_box_template = \"\"\"\n",
    "<dl>\n",
    "<dt>Name</dt><dd>{Hotel Name}</dd>\n",
    "<dt>City</dt><dd>{City}</dd>\n",
    "<dt>Country</dt><dd>{Country}</dd>\n",
    "</dl>\n",
    "\"\"\"\n",
    "# Store the DataFrame Row\n",
    "# NOTE: be sure to update with your DataFrame name\n",
    "hotel_info = [info_box_template.format(**row) for index, row in hotel_df.iterrows()]\n",
    "locations = hotel_df[[\"Latitude\", \"Longitude\"]]"
   ]
  },
  {
   "cell_type": "code",
   "execution_count": 10,
   "metadata": {},
   "outputs": [
    {
     "output_type": "display_data",
     "data": {
      "text/plain": "Figure(layout=FigureLayout(height='420px'))",
      "application/vnd.jupyter.widget-view+json": {
       "version_major": 2,
       "version_minor": 0,
       "model_id": "a2f5ee3811914b4db6fd073713a73da7"
      }
     },
     "metadata": {}
    }
   ],
   "source": [
    "# Add marker layer ontop of heat map\n",
    "markers = gmaps.marker_layer(locations, info_box_content = hotel_info)\n",
    "fig.add_layer(markers)\n",
    "\n",
    "\n",
    "# Display figure\n",
    "fig"
   ]
  },
  {
   "cell_type": "code",
   "execution_count": null,
   "metadata": {},
   "outputs": [],
   "source": []
  }
 ],
 "metadata": {
  "kernelspec": {
   "name": "python3",
   "display_name": "Python 3.6.10 64-bit ('PythonData': conda)",
   "metadata": {
    "interpreter": {
     "hash": "2bf60f7f62a9b17f7cccd910bdb7d19f5f505debd48b14e89e2e5eef6906d64c"
    }
   }
  },
  "language_info": {
   "codemirror_mode": {
    "name": "ipython",
    "version": 3
   },
   "file_extension": ".py",
   "mimetype": "text/x-python",
   "name": "python",
   "nbconvert_exporter": "python",
   "pygments_lexer": "ipython3",
   "version": "3.6.10-final"
  },
  "latex_envs": {
   "LaTeX_envs_menu_present": true,
   "autoclose": false,
   "autocomplete": true,
   "bibliofile": "biblio.bib",
   "cite_by": "apalike",
   "current_citInitial": 1,
   "eqLabelWithNumbers": true,
   "eqNumInitial": 1,
   "hotkeys": {
    "equation": "Ctrl-E",
    "itemize": "Ctrl-I"
   },
   "labels_anchors": false,
   "latex_user_defs": false,
   "report_style_numbering": false,
   "user_envs_cfg": false
  }
 },
 "nbformat": 4,
 "nbformat_minor": 4
}